{
  "nbformat": 4,
  "nbformat_minor": 0,
  "metadata": {
    "kernelspec": {
      "display_name": "Python 3",
      "language": "python",
      "name": "python3"
    },
    "language_info": {
      "codemirror_mode": {
        "name": "ipython",
        "version": 3
      },
      "file_extension": ".py",
      "mimetype": "text/x-python",
      "name": "python",
      "nbconvert_exporter": "python",
      "pygments_lexer": "ipython3",
      "version": "3.6.9"
    },
    "colab": {
      "name": "Project1.ipynb",
      "provenance": [],
      "collapsed_sections": [],
      "toc_visible": true,
      "include_colab_link": true
    }
  },
  "cells": [
    {
      "cell_type": "markdown",
      "metadata": {
        "id": "view-in-github",
        "colab_type": "text"
      },
      "source": [
        "<a href=\"https://colab.research.google.com/github/borisdavid98/copy/blob/master/Project1.ipynb\" target=\"_parent\"><img src=\"https://colab.research.google.com/assets/colab-badge.svg\" alt=\"Open In Colab\"/></a>"
      ]
    },
    {
      "cell_type": "code",
      "metadata": {
        "id": "tPUgWJ706PSa"
      },
      "source": [
        "import numpy as np\n",
        "import matplotlib.pyplot as plt\n"
      ],
      "execution_count": 1,
      "outputs": []
    },
    {
      "cell_type": "code",
      "metadata": {
        "id": "eTjp9cuh6PSe",
        "outputId": "9621a944-afd1-4716-efa0-f11d613b71cd",
        "colab": {
          "base_uri": "https://localhost:8080/",
          "height": 362
        }
      },
      "source": [
        "def load_data(sub_sample=False, add_outlier=False):\n",
        "\n",
        "    path_dataset = \"train.csv\"\n",
        "    data = np.genfromtxt(\n",
        "        path_dataset, delimiter=\",\", skip_header=1)\n",
        "    x = data[:,2:len(data[1,:])]\n",
        "    #y = data[:, 0]\n",
        "    y = np.genfromtxt(\n",
        "        path_dataset, delimiter=\",\", skip_header=1, usecols=[1],\n",
        "        converters={1: lambda x: 0 if b\"b\" in x else 1})\n",
        "    # sub-sample\n",
        "    if sub_sample:\n",
        "        x = x[::500] # take sample each 50 steps\n",
        "        y = y[::500]\n",
        "\n",
        "    if add_outlier:\n",
        "        # outlier experiment\n",
        "        x = np.concatenate([x, [1.1, 1.2]])\n",
        "        y = np.concatenate([y, [51.5/0.454, 55.3/0.454]])\n",
        "\n",
        "    return x, y\n",
        "x , y= load_data()"
      ],
      "execution_count": 2,
      "outputs": [
        {
          "output_type": "error",
          "ename": "OSError",
          "evalue": "ignored",
          "traceback": [
            "\u001b[0;31m---------------------------------------------------------------------------\u001b[0m",
            "\u001b[0;31mOSError\u001b[0m                                   Traceback (most recent call last)",
            "\u001b[0;32m<ipython-input-2-430491f006bf>\u001b[0m in \u001b[0;36m<module>\u001b[0;34m()\u001b[0m\n\u001b[1;32m     20\u001b[0m \u001b[0;34m\u001b[0m\u001b[0m\n\u001b[1;32m     21\u001b[0m     \u001b[0;32mreturn\u001b[0m \u001b[0mx\u001b[0m\u001b[0;34m,\u001b[0m \u001b[0my\u001b[0m\u001b[0;34m\u001b[0m\u001b[0;34m\u001b[0m\u001b[0m\n\u001b[0;32m---> 22\u001b[0;31m \u001b[0mx\u001b[0m \u001b[0;34m,\u001b[0m \u001b[0my\u001b[0m\u001b[0;34m=\u001b[0m \u001b[0mload_data\u001b[0m\u001b[0;34m(\u001b[0m\u001b[0;34m)\u001b[0m\u001b[0;34m\u001b[0m\u001b[0;34m\u001b[0m\u001b[0m\n\u001b[0m",
            "\u001b[0;32m<ipython-input-2-430491f006bf>\u001b[0m in \u001b[0;36mload_data\u001b[0;34m(sub_sample, add_outlier)\u001b[0m\n\u001b[1;32m      3\u001b[0m     \u001b[0mpath_dataset\u001b[0m \u001b[0;34m=\u001b[0m \u001b[0;34m\"train.csv\"\u001b[0m\u001b[0;34m\u001b[0m\u001b[0;34m\u001b[0m\u001b[0m\n\u001b[1;32m      4\u001b[0m     data = np.genfromtxt(\n\u001b[0;32m----> 5\u001b[0;31m         path_dataset, delimiter=\",\", skip_header=1)\n\u001b[0m\u001b[1;32m      6\u001b[0m     \u001b[0mx\u001b[0m \u001b[0;34m=\u001b[0m \u001b[0mdata\u001b[0m\u001b[0;34m[\u001b[0m\u001b[0;34m:\u001b[0m\u001b[0;34m,\u001b[0m\u001b[0;36m2\u001b[0m\u001b[0;34m:\u001b[0m\u001b[0mlen\u001b[0m\u001b[0;34m(\u001b[0m\u001b[0mdata\u001b[0m\u001b[0;34m[\u001b[0m\u001b[0;36m1\u001b[0m\u001b[0;34m,\u001b[0m\u001b[0;34m:\u001b[0m\u001b[0;34m]\u001b[0m\u001b[0;34m)\u001b[0m\u001b[0;34m]\u001b[0m\u001b[0;34m\u001b[0m\u001b[0;34m\u001b[0m\u001b[0m\n\u001b[1;32m      7\u001b[0m     \u001b[0;31m#y = data[:, 0]\u001b[0m\u001b[0;34m\u001b[0m\u001b[0;34m\u001b[0m\u001b[0;34m\u001b[0m\u001b[0m\n",
            "\u001b[0;32m/usr/local/lib/python3.6/dist-packages/numpy/lib/npyio.py\u001b[0m in \u001b[0;36mgenfromtxt\u001b[0;34m(fname, dtype, comments, delimiter, skip_header, skip_footer, converters, missing_values, filling_values, usecols, names, excludelist, deletechars, replace_space, autostrip, case_sensitive, defaultfmt, unpack, usemask, loose, invalid_raise, max_rows, encoding)\u001b[0m\n\u001b[1;32m   1770\u001b[0m             \u001b[0mfname\u001b[0m \u001b[0;34m=\u001b[0m \u001b[0mos_fspath\u001b[0m\u001b[0;34m(\u001b[0m\u001b[0mfname\u001b[0m\u001b[0;34m)\u001b[0m\u001b[0;34m\u001b[0m\u001b[0;34m\u001b[0m\u001b[0m\n\u001b[1;32m   1771\u001b[0m         \u001b[0;32mif\u001b[0m \u001b[0misinstance\u001b[0m\u001b[0;34m(\u001b[0m\u001b[0mfname\u001b[0m\u001b[0;34m,\u001b[0m \u001b[0mbasestring\u001b[0m\u001b[0;34m)\u001b[0m\u001b[0;34m:\u001b[0m\u001b[0;34m\u001b[0m\u001b[0;34m\u001b[0m\u001b[0m\n\u001b[0;32m-> 1772\u001b[0;31m             \u001b[0mfid\u001b[0m \u001b[0;34m=\u001b[0m \u001b[0mnp\u001b[0m\u001b[0;34m.\u001b[0m\u001b[0mlib\u001b[0m\u001b[0;34m.\u001b[0m\u001b[0m_datasource\u001b[0m\u001b[0;34m.\u001b[0m\u001b[0mopen\u001b[0m\u001b[0;34m(\u001b[0m\u001b[0mfname\u001b[0m\u001b[0;34m,\u001b[0m \u001b[0;34m'rt'\u001b[0m\u001b[0;34m,\u001b[0m \u001b[0mencoding\u001b[0m\u001b[0;34m=\u001b[0m\u001b[0mencoding\u001b[0m\u001b[0;34m)\u001b[0m\u001b[0;34m\u001b[0m\u001b[0;34m\u001b[0m\u001b[0m\n\u001b[0m\u001b[1;32m   1773\u001b[0m             \u001b[0mfid_ctx\u001b[0m \u001b[0;34m=\u001b[0m \u001b[0mcontextlib\u001b[0m\u001b[0;34m.\u001b[0m\u001b[0mclosing\u001b[0m\u001b[0;34m(\u001b[0m\u001b[0mfid\u001b[0m\u001b[0;34m)\u001b[0m\u001b[0;34m\u001b[0m\u001b[0;34m\u001b[0m\u001b[0m\n\u001b[1;32m   1774\u001b[0m         \u001b[0;32melse\u001b[0m\u001b[0;34m:\u001b[0m\u001b[0;34m\u001b[0m\u001b[0;34m\u001b[0m\u001b[0m\n",
            "\u001b[0;32m/usr/local/lib/python3.6/dist-packages/numpy/lib/_datasource.py\u001b[0m in \u001b[0;36mopen\u001b[0;34m(path, mode, destpath, encoding, newline)\u001b[0m\n\u001b[1;32m    267\u001b[0m \u001b[0;34m\u001b[0m\u001b[0m\n\u001b[1;32m    268\u001b[0m     \u001b[0mds\u001b[0m \u001b[0;34m=\u001b[0m \u001b[0mDataSource\u001b[0m\u001b[0;34m(\u001b[0m\u001b[0mdestpath\u001b[0m\u001b[0;34m)\u001b[0m\u001b[0;34m\u001b[0m\u001b[0;34m\u001b[0m\u001b[0m\n\u001b[0;32m--> 269\u001b[0;31m     \u001b[0;32mreturn\u001b[0m \u001b[0mds\u001b[0m\u001b[0;34m.\u001b[0m\u001b[0mopen\u001b[0m\u001b[0;34m(\u001b[0m\u001b[0mpath\u001b[0m\u001b[0;34m,\u001b[0m \u001b[0mmode\u001b[0m\u001b[0;34m,\u001b[0m \u001b[0mencoding\u001b[0m\u001b[0;34m=\u001b[0m\u001b[0mencoding\u001b[0m\u001b[0;34m,\u001b[0m \u001b[0mnewline\u001b[0m\u001b[0;34m=\u001b[0m\u001b[0mnewline\u001b[0m\u001b[0;34m)\u001b[0m\u001b[0;34m\u001b[0m\u001b[0;34m\u001b[0m\u001b[0m\n\u001b[0m\u001b[1;32m    270\u001b[0m \u001b[0;34m\u001b[0m\u001b[0m\n\u001b[1;32m    271\u001b[0m \u001b[0;34m\u001b[0m\u001b[0m\n",
            "\u001b[0;32m/usr/local/lib/python3.6/dist-packages/numpy/lib/_datasource.py\u001b[0m in \u001b[0;36mopen\u001b[0;34m(self, path, mode, encoding, newline)\u001b[0m\n\u001b[1;32m    621\u001b[0m                                       encoding=encoding, newline=newline)\n\u001b[1;32m    622\u001b[0m         \u001b[0;32melse\u001b[0m\u001b[0;34m:\u001b[0m\u001b[0;34m\u001b[0m\u001b[0;34m\u001b[0m\u001b[0m\n\u001b[0;32m--> 623\u001b[0;31m             \u001b[0;32mraise\u001b[0m \u001b[0mIOError\u001b[0m\u001b[0;34m(\u001b[0m\u001b[0;34m\"%s not found.\"\u001b[0m \u001b[0;34m%\u001b[0m \u001b[0mpath\u001b[0m\u001b[0;34m)\u001b[0m\u001b[0;34m\u001b[0m\u001b[0;34m\u001b[0m\u001b[0m\n\u001b[0m\u001b[1;32m    624\u001b[0m \u001b[0;34m\u001b[0m\u001b[0m\n\u001b[1;32m    625\u001b[0m \u001b[0;34m\u001b[0m\u001b[0m\n",
            "\u001b[0;31mOSError\u001b[0m: train.csv not found."
          ]
        }
      ]
    },
    {
      "cell_type": "code",
      "metadata": {
        "id": "Njz4JBql6PSl",
        "outputId": "88d7acfb-dbf2-46f0-d3d5-9ce54491d883",
        "colab": {
          "base_uri": "https://localhost:8080/",
          "height": 181
        }
      },
      "source": [
        "# data cleaning\n",
        "\n",
        "# Remove data with more than 70% missing values and store the output in x1 array\n",
        "x1=x\n",
        "missing_percent = np.zeros(len(x1[0,:]))\n",
        "new_missing_percent = []\n",
        "i = 0\n",
        "j = 0\n",
        "while True:\n",
        "    if(i==len(x1[0,:])):\n",
        "            break\n",
        "    a = (x1[:,i]==-999)+ np.zeros(len(x1[:,i]))\n",
        "    c = np.sum(a)/len(a)\n",
        "    missing_percent[j] = c\n",
        "    j+=1\n",
        "    if c>=0.7:\n",
        "        x1= np.delete(x1,i,1)\n",
        "        continue\n",
        "    new_missing_percent = np.append(new_missing_percent,c)\n",
        "    i+=1\n",
        "    \n",
        "\n",
        "print(\"Missing values' percentage for each column is \",  missing_percent)\n",
        "print(\"New missing values' percentage after 70% threshold \",  new_missing_percent)\n",
        "print(\"Intial number of features is\", len(x[0,:]))\n",
        "print(\"Number of deleted features is\", len(x[0,:])-len(x1[0,:]))\n"
      ],
      "execution_count": null,
      "outputs": [
        {
          "output_type": "stream",
          "text": [
            "Missing values' percentage for each column is  [0.152456 0.       0.       0.       0.709828 0.709828 0.709828 0.\n",
            " 0.       0.       0.       0.       0.709828 0.       0.       0.\n",
            " 0.       0.       0.       0.       0.       0.       0.       0.399652\n",
            " 0.399652 0.399652 0.709828 0.709828 0.709828 0.      ]\n",
            "New missing values' percentage after 70% threshold  [0.152456 0.       0.       0.       0.       0.       0.       0.\n",
            " 0.       0.       0.       0.       0.       0.       0.       0.\n",
            " 0.       0.       0.       0.399652 0.399652 0.399652 0.      ]\n",
            "Intial number of features is 30\n",
            "Number of deleted features is 7\n"
          ],
          "name": "stdout"
        }
      ]
    },
    {
      "cell_type": "code",
      "metadata": {
        "id": "6nbb0JOp6PSo"
      },
      "source": [
        "# Data cleaning 2: For each feature, replace each missing value with mean of feature \n",
        "s = (len(x1[:,0]),len(x1[0,:]))\n",
        "logic_array = np.ones(s)\n",
        "for k in range(len(x1[0,:])):\n",
        "    \n",
        "    if(new_missing_percent[k]>0):\n",
        "        logic_array[:,k] = (x1[:,k]!=-999)+ np.zeros(len(a))\n",
        "x2= np.multiply(logic_array,x1) #array with zeros instead of -999\n",
        "\n",
        "mean = np.mean(x2,0) #vector with mean of each column without -999\n",
        "means = np.multiply(1-logic_array,mean) # zeros-array with mean of column instead of missing value\n",
        "x3=np.add(x2,means) # array cleaned, each -999 is replaced with mean of column\n",
        "\n",
        "\n",
        "    "
      ],
      "execution_count": null,
      "outputs": []
    },
    {
      "cell_type": "code",
      "metadata": {
        "id": "_JEeGeYu6PSw"
      },
      "source": [
        "tx = np.c_[np.ones((y.shape[0], 1)), x3]"
      ],
      "execution_count": null,
      "outputs": []
    },
    {
      "cell_type": "code",
      "metadata": {
        "id": "3nnmvMfu6PSz"
      },
      "source": [
        "def least_squares(y, tx):\n",
        "    \"\"\"calculate the least squares solution.\"\"\"\n",
        "    b = tx.T\n",
        "    a = np.linalg.inv(np.dot(b,tx))\n",
        "    w = np.dot(np.dot(a,b),y)\n",
        "    error = y-np.dot(tx,w)\n",
        "    MSE = np.dot(error.T,error)/(2*len(y)) \n",
        "    return w, MSE"
      ],
      "execution_count": null,
      "outputs": []
    },
    {
      "cell_type": "code",
      "metadata": {
        "id": "BpOnB5366PS2"
      },
      "source": [
        "w, mse = least_squares(y,tx)"
      ],
      "execution_count": null,
      "outputs": []
    },
    {
      "cell_type": "code",
      "metadata": {
        "id": "MCJkhUup6PS5",
        "outputId": "af7d674e-dcae-49d9-cede-07d19a62a0cc",
        "colab": {
          "base_uri": "https://localhost:8080/",
          "height": 126
        }
      },
      "source": [
        "print(w,mse)"
      ],
      "execution_count": null,
      "outputs": [
        {
          "output_type": "stream",
          "text": [
            "[ 2.29639644e-02  1.34217592e-04 -3.68340136e-03 -3.32194089e-03\n",
            "  1.80945265e-06  1.80620175e-01 -8.82148137e-04 -1.56498545e+00\n",
            " -1.14618054e-01  5.48988907e-02  1.56927355e+00 -3.80763347e-04\n",
            " -2.17754209e-04  1.57166323e+00 -2.47828594e-04  6.65057903e-04\n",
            "  1.59580967e-03  2.46363419e-04 -2.78018826e-04  4.66727473e-02\n",
            "  1.31255907e-04  5.79193355e-05  1.08901564e-04  1.56462456e+00] 0.08811856200206146\n"
          ],
          "name": "stdout"
        }
      ]
    },
    {
      "cell_type": "code",
      "metadata": {
        "id": "L83A8cFb9MoU"
      },
      "source": [
        ""
      ],
      "execution_count": null,
      "outputs": []
    }
  ]
}